{
 "cells": [
  {
   "cell_type": "code",
   "execution_count": 31,
   "metadata": {},
   "outputs": [],
   "source": [
    "#to automate email\n",
    "import datetime as dt\n",
    "import time\n",
    "import email, smtplib, ssl\n",
    "from email import encoders\n",
    "from email.mime.base import MIMEBase\n",
    "from email.mime.multipart import MIMEMultipart\n",
    "from email.mime.text import MIMEText"
   ]
  },
  {
   "cell_type": "code",
   "execution_count": 45,
   "metadata": {},
   "outputs": [],
   "source": [
    "# create report\n",
    "def create_report():\n",
    "    %run -i \"bballref.py\"\n",
    "    \n",
    "# email time fucntion    \n",
    "def create_report_at(report_time):\n",
    "    time.sleep(report_time.timestamp() - time.time())\n",
    "    create_report()\n",
    "    print('Report created')"
   ]
  },
  {
   "cell_type": "code",
   "execution_count": null,
   "metadata": {},
   "outputs": [],
   "source": [
    "# send email function\n",
    "def send_email():\n",
    "    # assign key email aspects to variables for easier future editing\n",
    "    subject = \"NBA Recap\"\n",
    "    body = \"This is an email with the desired report attached\"\n",
    "    sender_email = \"sender_email@gmail.com\"\n",
    "    receiver_email = \"receiver_email\"\n",
    "    file = \"NBA-report_2021-02-03.xlsx\" # in the same directory as script\n",
    "    password = \"sender_email_password\"\n",
    "\n",
    "    # Create the email head (sender, receiver, and subject)\n",
    "    email = MIMEMultipart()\n",
    "    email[\"From\"] = sender_email\n",
    "    email[\"To\"] = receiver_email \n",
    "    email[\"Subject\"] = subject\n",
    "\n",
    "    # Add body and attachment to email\n",
    "    email.attach(MIMEText(body, \"plain\"))\n",
    "    attach_file = open(file, \"rb\") # open the file\n",
    "    report = MIMEBase(\"application\", \"octate-stream\")\n",
    "    report.set_payload((attach_file).read())\n",
    "    encoders.encode_base64(report)\n",
    "    report.add_header('Content-Disposition', 'attachment; filename=\"NBA-report-2021-02-03.xlsx\"')\n",
    "    email.attach(report)\n",
    "\n",
    "    #Create SMTP session for sending the mail\n",
    "    session = smtplib.SMTP('smtp.gmail.com', 587) #use gmail with port\n",
    "    session.starttls() #enable security\n",
    "    session.login(sender_email, 'sender_email_password') #login with mail_id and password\n",
    "    text = email.as_string()\n",
    "    session.sendmail(sender_email, receiver_email, text)\n",
    "    session.quit()\n",
    "    print('Mail Sent')\n",
    "\n",
    "# email time fucntion    \n",
    "def send_email_at(send_time):\n",
    "    time.sleep(send_time.timestamp() - time.time())\n",
    "    send_email()\n",
    "    print('email sent')\n",
    "\n",
    "first_report_time = dt.datetime(2021,2,4,7,59,0)\n",
    "first_email_time = dt.datetime(2021,2,4,8,0,0) # set your sending time in UTC\n",
    "interval = dt.timedelta(days=1) # set the interval for sending the email\n",
    "\n",
    "report_send_time = first_report_time\n",
    "email_send_time = first_email_time\n",
    "\n",
    "while True:\n",
    "    create_report_at(report_send_time)\n",
    "    report_send_time = report_send_time + interval\n",
    "    \n",
    "    send_email_at(email_send_time)\n",
    "    email_send_time = email_send_time + interval"
   ]
  }
 ],
 "metadata": {
  "kernelspec": {
   "display_name": "Python 3",
   "language": "python",
   "name": "python3"
  },
  "language_info": {
   "codemirror_mode": {
    "name": "ipython",
    "version": 3
   },
   "file_extension": ".py",
   "mimetype": "text/x-python",
   "name": "python",
   "nbconvert_exporter": "python",
   "pygments_lexer": "ipython3",
   "version": "3.8.5"
  }
 },
 "nbformat": 4,
 "nbformat_minor": 4
}
